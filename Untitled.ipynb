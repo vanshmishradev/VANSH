{
 "cells": [
  {
   "cell_type": "code",
   "execution_count": 5,
   "id": "4a67045b",
   "metadata": {},
   "outputs": [
    {
     "name": "stdout",
     "output_type": "stream",
     "text": [
      "Classification result: Not Spam\n"
     ]
    }
   ],
   "source": [
    "import sys\n",
    "from joblib import load\n",
    "from main import classify_text #Importing classify Function from main.py file\n",
    "from dummy_model import DummyModel\n",
    "\n",
    "model = load('spam_model.joblib')\n",
    "    \n",
    "result = classify_text(\"gift\", model)\n",
    "print(f\"Classification result: {result}\")  # Print the result\n",
    "\n"
   ]
  },
  {
   "cell_type": "code",
   "execution_count": 29,
   "id": "e849e20f",
   "metadata": {},
   "outputs": [
    {
     "name": "stdout",
     "output_type": "stream",
     "text": [
      "Prediction for 'Congratulations! You've won  a $1000 gift card ! ': Not Spam\n"
     ]
    }
   ],
   "source": [
    "# app/main.py\n",
    "\n",
    "from dummy_model import DummyModel\n",
    "from joblib import load\n",
    "\n",
    "\n",
    "def classify_text(text, model):\n",
    "    \"\"\"Classify text as spam or not.\"\"\"\n",
    "    prediction = model.predict([text])\n",
    "    if prediction == 1:\n",
    "        return \"Spam\"\n",
    "    else:\n",
    "        return \"Not Spam\"\n",
    "\n",
    "if __name__ == \"__main__\": #__name__: It's a built-in variable in Python that represents the name of the current module.\n",
    "    #If this code run directly main value will come in __name__ if imported then not come- so run this code when directly\n",
    "    model = load('spam_model.joblib')\n",
    "\n",
    "    sample_text = \"Congratulations! You've won  a $1000 gift card ! \"\n",
    "    print(f\"Prediction for '{sample_text}': {classify_text(sample_text, model)}\")"
   ]
  },
  {
   "cell_type": "code",
   "execution_count": 43,
   "id": "6c9e72af",
   "metadata": {},
   "outputs": [
    {
     "name": "stdout",
     "output_type": "stream",
     "text": [
      "Spam\n"
     ]
    }
   ],
   "source": [
    "class DummyModel:\n",
    "    def predict(self, texts):\n",
    "        return [1 if \"won\" in text or \"gift\" in text else 0 for text in texts]\n",
    "        #IF won and gift present in text then it is spam (1) otherewise no spam(0)\n",
    "\n",
    "model = DummyModel()\n",
    "prediction=model.predict([\"Congratulations! You've won  a $1000 gift card !\"])\n",
    "\n",
    "if prediction[0] == 1:\n",
    "        print(\"Spam\")\n",
    "else:\n",
    "        print(\"Not Spam\")\n"
   ]
  },
  {
   "cell_type": "code",
   "execution_count": null,
   "id": "9cbae0f4",
   "metadata": {},
   "outputs": [],
   "source": []
  }
 ],
 "metadata": {
  "kernelspec": {
   "display_name": "Python 3 (ipykernel)",
   "language": "python",
   "name": "python3"
  },
  "language_info": {
   "codemirror_mode": {
    "name": "ipython",
    "version": 3
   },
   "file_extension": ".py",
   "mimetype": "text/x-python",
   "name": "python",
   "nbconvert_exporter": "python",
   "pygments_lexer": "ipython3",
   "version": "3.10.9"
  }
 },
 "nbformat": 4,
 "nbformat_minor": 5
}
